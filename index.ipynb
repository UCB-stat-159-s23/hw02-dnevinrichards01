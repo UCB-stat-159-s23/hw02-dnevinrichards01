{
 "cells": [
  {
   "cell_type": "markdown",
   "id": "33eab252-54f5-4ed6-b62b-16e433e80b40",
   "metadata": {
    "user_expressions": []
   },
   "source": [
    "This repository is public so that Binder can find it. All code and data is based on the original LIGO Center for Open Science Tutorial Repository. This repository is a class exercise that restructures the original LIGO code for improved reproducibility, as a homework assignment for the Spring 2022 installment of UC Berkeley's Stat 159/259 course, _Reproducible and Collaborative Data Science. Authorship of the original analysis code rests with the LIGO collaboration."
   ]
  },
  {
   "cell_type": "code",
   "execution_count": null,
   "id": "6b6c39b3-d53e-4c49-b87f-02e37be84704",
   "metadata": {},
   "outputs": [],
   "source": []
  }
 ],
 "metadata": {
  "kernelspec": {
   "display_name": "Python 3 (ipykernel)",
   "language": "python",
   "name": "python3"
  },
  "language_info": {
   "codemirror_mode": {
    "name": "ipython",
    "version": 3
   },
   "file_extension": ".py",
   "mimetype": "text/x-python",
   "name": "python",
   "nbconvert_exporter": "python",
   "pygments_lexer": "ipython3",
   "version": "3.10.8"
  }
 },
 "nbformat": 4,
 "nbformat_minor": 5
}
